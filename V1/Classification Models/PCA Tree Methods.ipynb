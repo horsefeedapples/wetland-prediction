{
 "cells": [
  {
   "cell_type": "code",
   "execution_count": 1,
   "metadata": {},
   "outputs": [],
   "source": [
    "import pandas as pd\n",
    "import numpy as np\n",
    "import matplotlib as mpl\n",
    "import matplotlib.pyplot as plt\n",
    "import graphviz\n",
    "from time import time\n",
    "import timeit\n",
    "\n",
    "%matplotlib inline"
   ]
  },
  {
   "cell_type": "code",
   "execution_count": 2,
   "metadata": {},
   "outputs": [],
   "source": [
    "from sklearn.model_selection import train_test_split, KFold\n",
    "from sklearn.tree import DecisionTreeRegressor, DecisionTreeClassifier, export_graphviz\n",
    "from sklearn.ensemble import RandomForestRegressor, GradientBoostingRegressor, RandomForestClassifier\n",
    "from sklearn.metrics import confusion_matrix, mean_squared_error, accuracy_score, classification_report\n",
    "from sklearn.decomposition import PCA"
   ]
  },
  {
   "cell_type": "code",
   "execution_count": 3,
   "metadata": {},
   "outputs": [],
   "source": [
    "df = pd.read_csv('../RiverRoad_Quan_RF.csv')\n",
    "X = df.drop(['GRID_ID', 'wetland_type', 'wetland', 'FID_RiverRd_AOI'], axis=1)\n",
    "y = df.FID_RiverRd_AOI"
   ]
  },
  {
   "cell_type": "code",
   "execution_count": 4,
   "metadata": {},
   "outputs": [],
   "source": [
    "kf = KFold(n_splits=5, random_state=2, shuffle=True)"
   ]
  },
  {
   "cell_type": "code",
   "execution_count": 66,
   "metadata": {},
   "outputs": [],
   "source": [
    "#start_time = timeit.default_timer()\n",
    "\n",
    "p_acc_score = {0: 0}\n",
    "p_acc_score_std = {0:0}\n",
    "\n",
    "for p in range(10, 61, 10):\n",
    "    for train_index , test_index in kf.split(df):\n",
    "        acc_score = [];\n",
    "        Truth = [];\n",
    "        Output = [];\n",
    "        \n",
    "        X_train , X_test = X.iloc[train_index,:], X.iloc[test_index,:]\n",
    "        y_train , y_test = y.iloc[train_index], y.iloc[test_index]\n",
    "\n",
    "        pca = PCA(n_components=p)\n",
    "        New_X_train = pca.fit_transform(X_train)\n",
    "        New_X_test = pca.transform(X_test)\n",
    "\n",
    "        model = RandomForestClassifier(max_features = p, random_state = 2)\n",
    "        model.fit(New_X_train,y_train)\n",
    "        pred_values = model.predict(New_X_test)\n",
    "\n",
    "        acc = accuracy_score(y_test, pred_values)\n",
    "        acc_score.append(acc)\n",
    "\n",
    "        Truth.extend(y_test.values.reshape(y_test.shape[0])); ## it is a list\n",
    "        Output.extend(pred_values);\n",
    "        \n",
    "    p_acc_score[p] = np.mean(acc_score)\n",
    "\n",
    "del p_acc_score[0]\n",
    "# elapsed = timeit.default_timer() - start_time #gives total computation time\n",
    "# print(\"---Run time is %s seconds ---\" % elapsed) #prints computation time\n",
    "# print()"
   ]
  },
  {
   "cell_type": "code",
   "execution_count": 74,
   "metadata": {},
   "outputs": [
    {
     "data": {
      "text/plain": [
       "(0.8, 0.9)"
      ]
     },
     "execution_count": 74,
     "metadata": {},
     "output_type": "execute_result"
    },
    {
     "data": {
      "image/png": "[encoded data removed]",
      "text/plain": [
       "<Figure size 432x288 with 1 Axes>"
      ]
     },
     "metadata": {
      "needs_background": "light"
     },
     "output_type": "display_data"
    }
   ],
   "source": [
    "scores = p_acc_score\n",
    "plt.bar(range(len(p_acc_score)), list(p_acc_score.values()), tick_label=list(p_acc_score.keys()))\n",
    "plt.title(\"Accuracy of Random Forest Classifier with Different PCA Values\")\n",
    "plt.ylabel(\"Accuracy\")\n",
    "plt.xlabel(\"PCA Components\")\n",
    "plt.ylim([.8, .9])"
   ]
  },
  {
   "cell_type": "code",
   "execution_count": 75,
   "metadata": {},
   "outputs": [],
   "source": [
    "p_acc_score = {0: 0}\n",
    "p_acc_score_std = {0:0}\n",
    "\n",
    "for p in range(25, 35, 2):\n",
    "    for train_index , test_index in kf.split(df):\n",
    "        acc_score = [];\n",
    "        Truth = [];\n",
    "        Output = [];\n",
    "        \n",
    "        X_train , X_test = X.iloc[train_index,:], X.iloc[test_index,:]\n",
    "        y_train , y_test = y.iloc[train_index], y.iloc[test_index]\n",
    "\n",
    "        pca = PCA(n_components=p)\n",
    "        New_X_train = pca.fit_transform(X_train)\n",
    "        New_X_test = pca.transform(X_test)\n",
    "\n",
    "        model = RandomForestClassifier(max_features = p, random_state = 2)\n",
    "        model.fit(New_X_train,y_train)\n",
    "        pred_values = model.predict(New_X_test)\n",
    "\n",
    "        acc = accuracy_score(y_test, pred_values)\n",
    "        acc_score.append(acc)\n",
    "\n",
    "        Truth.extend(y_test.values.reshape(y_test.shape[0])); ## it is a list\n",
    "        Output.extend(pred_values);\n",
    "        \n",
    "    p_acc_score[p] = np.mean(acc_score)\n",
    "\n",
    "del p_acc_score[0]"
   ]
  },
  {
   "cell_type": "code",
   "execution_count": 76,
   "metadata": {},
   "outputs": [
    {
     "data": {
      "text/plain": [
       "(0.8, 0.9)"
      ]
     },
     "execution_count": 76,
     "metadata": {},
     "output_type": "execute_result"
    },
    {
     "data": {
      "image/png": "[encoded data removed]",
      "text/plain": [
       "<Figure size 432x288 with 1 Axes>"
      ]
     },
     "metadata": {
      "needs_background": "light"
     },
     "output_type": "display_data"
    }
   ],
   "source": [
    "scores_30s = p_acc_score\n",
    "plt.bar(range(len(p_acc_score)), list(p_acc_score.values()), tick_label=list(p_acc_score.keys()))\n",
    "plt.title(\"Accuracy of Random Forest Classifier with Different PCA Values\")\n",
    "plt.ylabel(\"Accuracy\")\n",
    "plt.xlabel(\"PCA Components\")\n",
    "plt.ylim([.8, .9])"
   ]
  },
  {
   "cell_type": "code",
   "execution_count": 5,
   "metadata": {},
   "outputs": [
    {
     "name": "stdout",
     "output_type": "stream",
     "text": [
      "---Run time is 157.53795209999998 seconds ---\n",
      "\n"
     ]
    }
   ],
   "source": [
    "start_time = timeit.default_timer()\n",
    "acc_score = [];\n",
    "Truth = [];\n",
    "Output = [];\n",
    "for train_index , test_index in kf.split(df):\n",
    "    X_train , X_test = X.iloc[train_index,:], X.iloc[test_index,:]\n",
    "    y_train , y_test = y.iloc[train_index], y.iloc[test_index]\n",
    "\n",
    "    pca = PCA(n_components=29)\n",
    "    New_X_train = pca.fit_transform(X_train)\n",
    "    New_X_test = pca.transform(X_test)\n",
    "\n",
    "    model = RandomForestClassifier(max_features = 29, random_state = 2)\n",
    "    model.fit(New_X_train,y_train)\n",
    "    pred_values = model.predict(New_X_test)\n",
    "\n",
    "    acc = accuracy_score(y_test, pred_values)\n",
    "    acc_score.append(acc)\n",
    "\n",
    "    Truth.extend(y_test.values.reshape(y_test.shape[0])); ## it is a list\n",
    "    Output.extend(pred_values);\n",
    "elapsed = timeit.default_timer() - start_time #gives total computation time\n",
    "print(\"---Run time is %s seconds ---\" % elapsed) #prints computation time\n",
    "print()"
   ]
  },
  {
   "cell_type": "code",
   "execution_count": 6,
   "metadata": {},
   "outputs": [
    {
     "data": {
      "text/plain": [
       "0.883985202591434"
      ]
     },
     "execution_count": 6,
     "metadata": {},
     "output_type": "execute_result"
    }
   ],
   "source": [
    "np.mean(acc_score)"
   ]
  },
  {
   "cell_type": "code",
   "execution_count": 7,
   "metadata": {},
   "outputs": [],
   "source": [
    "Truth = np.asarray(Truth)  ## or np.array(Truth)\n",
    "Output = np.asarray(Output)"
   ]
  },
  {
   "cell_type": "code",
   "execution_count": 8,
   "metadata": {},
   "outputs": [
    {
     "data": {
      "text/plain": [
       "array([[0, 1],\n",
       "       [0, 1],\n",
       "       [1, 1],\n",
       "       ...,\n",
       "       [0, 0],\n",
       "       [0, 0],\n",
       "       [1, 1]], dtype=int64)"
      ]
     },
     "execution_count": 8,
     "metadata": {},
     "output_type": "execute_result"
    }
   ],
   "source": [
    "np.column_stack((Truth, Output))"
   ]
  },
  {
   "cell_type": "code",
   "execution_count": 9,
   "metadata": {},
   "outputs": [
    {
     "name": "stdout",
     "output_type": "stream",
     "text": [
      "[[2429  715]\n",
      " [ 284 5183]]\n",
      "              precision    recall  f1-score   support\n",
      "\n",
      "           0     0.8953    0.7726    0.8294      3144\n",
      "           1     0.8788    0.9481    0.9121      5467\n",
      "\n",
      "    accuracy                         0.8840      8611\n",
      "   macro avg     0.8870    0.8603    0.8708      8611\n",
      "weighted avg     0.8848    0.8840    0.8819      8611\n",
      "\n"
     ]
    }
   ],
   "source": [
    "print(confusion_matrix(Truth, Output))\n",
    "print(classification_report(Truth, Output, digits=4))"
   ]
  },
  {
   "cell_type": "code",
   "execution_count": null,
   "metadata": {},
   "outputs": [],
   "source": []
  },
  {
   "cell_type": "code",
   "execution_count": null,
   "metadata": {},
   "outputs": [],
   "source": []
  }
 ],
 "metadata": {
  "kernelspec": {
   "display_name": "Python 3",
   "language": "python",
   "name": "python3"
  },
  "language_info": {
   "codemirror_mode": {
    "name": "ipython",
    "version": 3
   },
   "file_extension": ".py",
   "mimetype": "text/x-python",
   "name": "python",
   "nbconvert_exporter": "python",
   "pygments_lexer": "ipython3",
   "version": "3.8.8"
  }
 },
 "nbformat": 4,
 "nbformat_minor": 4
}
