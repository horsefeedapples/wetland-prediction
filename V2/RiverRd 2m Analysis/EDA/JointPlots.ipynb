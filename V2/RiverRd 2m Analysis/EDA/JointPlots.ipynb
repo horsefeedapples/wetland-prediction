{
 "cells": [
  {
   "cell_type": "code",
   "execution_count": 1,
   "source": [
    "from IPython.core.interactiveshell import InteractiveShell\r\n",
    "InteractiveShell.ast_node_interactivity = \"all\"\r\n",
    "import numpy as np\r\n",
    "import matplotlib.pyplot as plt\r\n",
    "import matplotlib.gridspec as gridspec\r\n",
    "import os\r\n",
    "import pandas as pd\r\n",
    "import seaborn as sns\r\n",
    "\r\n",
    "%matplotlib inline\r\n",
    "sns.set_style('whitegrid')\r\n",
    "sns.set(rc={\"figure.dpi\":70, 'savefig.dpi':70}) #defining dpi setting\r\n",
    "sns.set_context('notebook')\r\n",
    "sns.set_style(\"ticks\")\r\n",
    "from IPython.display import set_matplotlib_formats\r\n",
    "set_matplotlib_formats('retina')"
   ],
   "outputs": [],
   "metadata": {}
  },
  {
   "cell_type": "code",
   "execution_count": 8,
   "source": [
    "dfes = pd.read_csv('../RR_2m_Quan_multi.csv')\r\n",
    "dfes['FID_RiverRd_AOI'] = np.where(dfes['NWI']=='wetland', 1, 0)\r\n",
    "dfes['NWI'] = np.where(dfes['NWI']=='wetland', 'wetland', 'nonwetland')"
   ],
   "outputs": [],
   "metadata": {}
  },
  {
   "cell_type": "code",
   "execution_count": 9,
   "source": [
    "def jpt(dfes, x, y, hue, title):\r\n",
    "    g = sns.jointplot(data=dfes, x=x, y=y, hue=hue)\r\n",
    "    g.fig.suptitle(title)"
   ],
   "outputs": [],
   "metadata": {}
  },
  {
   "cell_type": "code",
   "execution_count": 10,
   "source": [
    "for(columnName, columnData) in dfes.iteritems():\r\n",
    "    if(\"MIN\" in columnName):\r\n",
    "        columnName = columnName.split('_')[0]\r\n",
    "        jpt(dfes, f\"{columnName}_MIN\", f\"{columnName}_MAX\", \"NWI\", f\"{columnName} Max vs {columnName} Min Scatterplot\")\r\n",
    "        jpt(dfes, f\"{columnName}_STD\", f\"{columnName}_MEAN\", \"NWI\", f\"{columnName} Std vs {columnName} Mean Scatterplot\")"
   ],
   "outputs": [],
   "metadata": {}
  },
  {
   "cell_type": "code",
   "execution_count": null,
   "source": [],
   "outputs": [],
   "metadata": {}
  }
 ],
 "metadata": {
  "orig_nbformat": 4,
  "language_info": {
   "name": "python",
   "version": "3.8.3",
   "mimetype": "text/x-python",
   "codemirror_mode": {
    "name": "ipython",
    "version": 3
   },
   "pygments_lexer": "ipython3",
   "nbconvert_exporter": "python",
   "file_extension": ".py"
  },
  "kernelspec": {
   "name": "python3",
   "display_name": "Python 3.8.3 64-bit ('base': conda)"
  },
  "interpreter": {
   "hash": "4e343cd2380e34ed5504af03d80965f93ebf001b883b90e9a5da858fd2e56fbf"
  }
 },
 "nbformat": 4,
 "nbformat_minor": 2
}