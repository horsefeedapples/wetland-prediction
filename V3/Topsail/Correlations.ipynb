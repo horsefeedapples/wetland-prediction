{
 "cells": [
  {
   "cell_type": "code",
   "execution_count": 1,
   "metadata": {},
   "outputs": [],
   "source": [
    "import pyreadr\n",
    "import numpy as np\n",
    "import pandas as pd\n",
    "import seaborn as sns\n",
    "import matplotlib.pyplot as plt"
   ]
  },
  {
   "cell_type": "code",
   "execution_count": 2,
   "metadata": {},
   "outputs": [],
   "source": [
    "result = pyreadr.read_r('.\\Topsail_hab.rds')"
   ]
  },
  {
   "cell_type": "code",
   "execution_count": 3,
   "metadata": {},
   "outputs": [
    {
     "data": {
      "text/plain": [
       "1.0    26\n",
       "3.0    17\n",
       "2.0    17\n",
       "4.0    15\n",
       "6.0    15\n",
       "Name: Habitat, dtype: int64"
      ]
     },
     "execution_count": 3,
     "metadata": {},
     "output_type": "execute_result"
    }
   ],
   "source": [
    "df = result[None]\n",
    "df['Habitat'].value_counts()\n",
    "# 1) Nonwetland\n",
    "# 2) Nonwetland Open\n",
    "# 3) PFO/SS\n",
    "# 4) PFO\n",
    "# 5) PSS"
   ]
  },
  {
   "cell_type": "code",
   "execution_count": 4,
   "metadata": {},
   "outputs": [
    {
     "data": {
      "text/plain": [
       "1    47\n",
       "0    43\n",
       "Name: Wetland, dtype: int64"
      ]
     },
     "execution_count": 4,
     "metadata": {},
     "output_type": "execute_result"
    }
   ],
   "source": [
    "df['Wetland'] = np.where(np.logical_or(df['Habitat']==1.0, df['Habitat']==2.0), 0, 1)\n",
    "df['Wetland'].value_counts()"
   ]
  },
  {
   "cell_type": "code",
   "execution_count": 5,
   "metadata": {},
   "outputs": [
    {
     "data": {
      "text/plain": [
       "<AxesSubplot:>"
      ]
     },
     "execution_count": 5,
     "metadata": {},
     "output_type": "execute_result"
    },
    {
     "data": {
      "image/png": "[encoded data removed]",
      "text/plain": [
       "<Figure size 432x288 with 2 Axes>"
      ]
     },
     "metadata": {
      "needs_background": "light"
     },
     "output_type": "display_data"
    }
   ],
   "source": [
    "df_corr = df.drop([\"Wetland\", \"Habitat\", 'x', 'y'], axis=1)\n",
    "corr = df_corr.corr()\n",
    "sns.heatmap(corr, cmap=\"Blues\")"
   ]
  },
  {
   "cell_type": "code",
   "execution_count": 6,
   "metadata": {},
   "outputs": [
    {
     "data": {
      "text/html": [
       "<div>\n",
       "<style scoped>\n",
       "    .dataframe tbody tr th:only-of-type {\n",
       "        vertical-align: middle;\n",
       "    }\n",
       "\n",
       "    .dataframe tbody tr th {\n",
       "        vertical-align: top;\n",
       "    }\n",
       "\n",
       "    .dataframe thead th {\n",
       "        text-align: right;\n",
       "    }\n",
       "</style>\n",
       "<table border=\"1\" class=\"dataframe\">\n",
       "  <thead>\n",
       "    <tr style=\"text-align: right;\">\n",
       "      <th></th>\n",
       "      <th>Wetland</th>\n",
       "    </tr>\n",
       "  </thead>\n",
       "  <tbody>\n",
       "    <tr>\n",
       "      <th>NDWI</th>\n",
       "      <td>-0.433454</td>\n",
       "    </tr>\n",
       "    <tr>\n",
       "      <th>sDEM</th>\n",
       "      <td>-0.094704</td>\n",
       "    </tr>\n",
       "    <tr>\n",
       "      <th>hDEM</th>\n",
       "      <td>-0.065176</td>\n",
       "    </tr>\n",
       "    <tr>\n",
       "      <th>Curvature</th>\n",
       "      <td>-0.057515</td>\n",
       "    </tr>\n",
       "    <tr>\n",
       "      <th>DEM</th>\n",
       "      <td>-0.053949</td>\n",
       "    </tr>\n",
       "    <tr>\n",
       "      <th>PlanCurv</th>\n",
       "      <td>0.056626</td>\n",
       "    </tr>\n",
       "    <tr>\n",
       "      <th>NDRE</th>\n",
       "      <td>0.111555</td>\n",
       "    </tr>\n",
       "    <tr>\n",
       "      <th>ProfileCurv</th>\n",
       "      <td>0.116185</td>\n",
       "    </tr>\n",
       "    <tr>\n",
       "      <th>Aspect</th>\n",
       "      <td>0.157416</td>\n",
       "    </tr>\n",
       "    <tr>\n",
       "      <th>DSM</th>\n",
       "      <td>0.283796</td>\n",
       "    </tr>\n",
       "    <tr>\n",
       "      <th>Slope</th>\n",
       "      <td>0.333909</td>\n",
       "    </tr>\n",
       "    <tr>\n",
       "      <th>CHM</th>\n",
       "      <td>0.336886</td>\n",
       "    </tr>\n",
       "    <tr>\n",
       "      <th>NDVI</th>\n",
       "      <td>0.585424</td>\n",
       "    </tr>\n",
       "  </tbody>\n",
       "</table>\n",
       "</div>"
      ],
      "text/plain": [
       "              Wetland\n",
       "NDWI        -0.433454\n",
       "sDEM        -0.094704\n",
       "hDEM        -0.065176\n",
       "Curvature   -0.057515\n",
       "DEM         -0.053949\n",
       "PlanCurv     0.056626\n",
       "NDRE         0.111555\n",
       "ProfileCurv  0.116185\n",
       "Aspect       0.157416\n",
       "DSM          0.283796\n",
       "Slope        0.333909\n",
       "CHM          0.336886\n",
       "NDVI         0.585424"
      ]
     },
     "execution_count": 6,
     "metadata": {},
     "output_type": "execute_result"
    }
   ],
   "source": [
    "wetland_corr = df.drop(['Habitat', 'x', 'y'], axis=1).corr()\n",
    "df_corr = pd.DataFrame(wetland_corr['Wetland'])\n",
    "df_corr = df_corr[:-1].sort_values(by=[\"Wetland\"])\n",
    "pd.set_option('display.max_rows', None)\n",
    "df_corr"
   ]
  },
  {
   "cell_type": "code",
   "execution_count": 7,
   "metadata": {},
   "outputs": [],
   "source": [
    "df.to_csv(\"Topsail.csv\")"
   ]
  },
  {
   "cell_type": "code",
   "execution_count": null,
   "metadata": {},
   "outputs": [],
   "source": []
  }
 ],
 "metadata": {
  "interpreter": {
   "hash": "4e343cd2380e34ed5504af03d80965f93ebf001b883b90e9a5da858fd2e56fbf"
  },
  "kernelspec": {
   "display_name": "Python 3.9.7 ('base')",
   "language": "python",
   "name": "python3"
  },
  "language_info": {
   "codemirror_mode": {
    "name": "ipython",
    "version": 3
   },
   "file_extension": ".py",
   "mimetype": "text/x-python",
   "name": "python",
   "nbconvert_exporter": "python",
   "pygments_lexer": "ipython3",
   "version": "3.9.7"
  },
  "orig_nbformat": 4
 },
 "nbformat": 4,
 "nbformat_minor": 2
}
