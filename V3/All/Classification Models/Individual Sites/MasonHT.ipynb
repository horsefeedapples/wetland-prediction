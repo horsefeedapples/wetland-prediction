{
 "cells": [
  {
   "cell_type": "code",
   "execution_count": 5,
   "metadata": {},
   "outputs": [],
   "source": [
    "import matplotlib.pyplot as plt\n",
    "import numpy as np\n",
    "import pandas as pd\n",
    "import os\n",
    "\n",
    "import timeit\n",
    "\n",
    "from sklearn.metrics import plot_roc_curve\n",
    "\n",
    "from sklearn.model_selection import KFold\n",
    "\n",
    "from sklearn.metrics import confusion_matrix\n",
    "from sklearn.metrics import classification_report\n",
    "\n",
    "from xgboost import XGBClassifier\n",
    "from xgboost import plot_tree"
   ]
  },
  {
   "cell_type": "code",
   "execution_count": 10,
   "metadata": {},
   "outputs": [],
   "source": [
    "masonhtdf = pd.read_csv('../../data/masonht.csv').drop('Unnamed: 0', axis=1)\n",
    "masonhtdf = masonhtdf[[ 'x', 'y', 'Habitat', 'DEM', 'sDEM', 'hDEM', 'DSM', 'CHM', 'Aspect', 'Slope',\n",
    "       'Curvature', 'PlanCurv', 'ProfileCurv', 'NDVI', 'NDRE', 'NDWI', 'Wetland']]"
   ]
  },
  {
   "cell_type": "code",
   "execution_count": 11,
   "metadata": {},
   "outputs": [],
   "source": [
    "df = pd.DataFrame()\n",
    "\n",
    "for filename in os.scandir('../../Data'):\n",
    "    if filename.is_file():\n",
    "        p = filename.path\n",
    "        if(p != '../../Data\\MasonHT.csv'):\n",
    "            df_temp = pd.read_csv(p)\n",
    "            df.reset_index(drop=True, inplace=True)\n",
    "            df_temp.reset_index(drop=True, inplace=True)\n",
    "            df = pd.concat([df, df_temp])\n",
    "\n",
    "df=df.drop(['Unnamed: 0'], axis=1)"
   ]
  },
  {
   "cell_type": "code",
   "execution_count": 12,
   "metadata": {},
   "outputs": [],
   "source": [
    "X_train = df.drop(['x', 'y', 'Habitat', 'Wetland'], axis=1)\n",
    "y_train = df.Wetland\n",
    "\n",
    "X_test = masonhtdf.drop(['x', 'y', 'Habitat', 'Wetland'], axis=1)\n",
    "y_test = masonhtdf.Wetland"
   ]
  },
  {
   "cell_type": "code",
   "execution_count": 13,
   "metadata": {},
   "outputs": [
    {
     "name": "stdout",
     "output_type": "stream",
     "text": [
      "[[51  5]\n",
      " [10 87]]\n",
      "              precision    recall  f1-score   support\n",
      "\n",
      "           0       0.84      0.91      0.87        56\n",
      "           1       0.95      0.90      0.92        97\n",
      "\n",
      "    accuracy                           0.90       153\n",
      "   macro avg       0.89      0.90      0.90       153\n",
      "weighted avg       0.91      0.90      0.90       153\n",
      "\n",
      "0.336152200000015\n"
     ]
    },
    {
     "data": {
      "image/png": "[encoded data removed]",
      "text/plain": [
       "<Figure size 432x288 with 1 Axes>"
      ]
     },
     "metadata": {
      "needs_background": "light"
     },
     "output_type": "display_data"
    },
    {
     "data": {
      "image/png": "[encoded data removed]",
      "text/plain": [
       "<Figure size 432x288 with 1 Axes>"
      ]
     },
     "metadata": {
      "needs_background": "light"
     },
     "output_type": "display_data"
    }
   ],
   "source": [
    "start_time = timeit.default_timer()\n",
    "\n",
    "model = XGBClassifier(n_estimators=500, learning_rate=0.1, max_depth=6, random_state=69)\n",
    "\n",
    "model.fit(X_train, y_train)\n",
    "pred_values = model.predict(X_test)\n",
    "\n",
    "elapsed = timeit.default_timer() - start_time\n",
    "\n",
    "tree = plot_tree(model, orientation='vertical')\n",
    "\n",
    "feature_importance = model.feature_importances_\n",
    "\n",
    "fig, ax = plt.subplots()\n",
    "viz = plot_roc_curve(model, X_test, y_test, name='ROC', alpha=0.8, lw=1, ax = ax)\n",
    "ax.set(xlim=[-0.05, 1.05], ylim=[-0.05, 1.05],\n",
    "           title=\"XGBM ROC for St James\")\n",
    "ax.set_xlabel(\"False Positive Rate\")\n",
    "ax.set_ylabel(\"True Positive Rate\")\n",
    "\n",
    "Truth = y_test.values.reshape(y_test.shape)\n",
    "Output = pred_values\n",
    "\n",
    "feature_importances = pd.DataFrame()\n",
    "feature_importance = model.feature_importances_\n",
    "rel_imp = pd.DataFrame(feature_importance, index=X_train.columns, columns=[0])\n",
    "feature_importances = pd.concat([feature_importances, rel_imp], axis=1)[0]\n",
    "\n",
    "print(confusion_matrix(Truth, Output))\n",
    "print(classification_report(Truth, Output))\n",
    "print(elapsed)"
   ]
  },
  {
   "cell_type": "code",
   "execution_count": null,
   "metadata": {},
   "outputs": [],
   "source": []
  }
 ],
 "metadata": {
  "interpreter": {
   "hash": "9553c862d67465504f790fd63985f72abc209618665f0b33213c8faa9364b623"
  },
  "kernelspec": {
   "display_name": "Python 3.9.7 ('base')",
   "language": "python",
   "name": "python3"
  },
  "language_info": {
   "codemirror_mode": {
    "name": "ipython",
    "version": 3
   },
   "file_extension": ".py",
   "mimetype": "text/x-python",
   "name": "python",
   "nbconvert_exporter": "python",
   "pygments_lexer": "ipython3",
   "version": "3.9.7"
  },
  "orig_nbformat": 4
 },
 "nbformat": 4,
 "nbformat_minor": 2
}
